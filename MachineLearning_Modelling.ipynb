{
  "nbformat": 4,
  "nbformat_minor": 0,
  "metadata": {
    "colab": {
      "provenance": [],
      "authorship_tag": "ABX9TyPzLVcUPW7eRDZZoySIHOPI",
      "include_colab_link": true
    },
    "kernelspec": {
      "name": "python3",
      "display_name": "Python 3"
    },
    "language_info": {
      "name": "python"
    }
  },
  "cells": [
    {
      "cell_type": "markdown",
      "metadata": {
        "id": "view-in-github",
        "colab_type": "text"
      },
      "source": [
        "<a href=\"https://colab.research.google.com/github/abhishhari/Code/blob/Research-Project/MachineLearning_Modelling.ipynb\" target=\"_parent\"><img src=\"https://colab.research.google.com/assets/colab-badge.svg\" alt=\"Open In Colab\"/></a>"
      ]
    },
    {
      "cell_type": "markdown",
      "source": [
        "Machine Learning Modelling"
      ],
      "metadata": {
        "id": "S44ZiA5htre8"
      }
    },
    {
      "cell_type": "code",
      "execution_count": null,
      "metadata": {
        "id": "20oM-jortNdY"
      },
      "outputs": [],
      "source": [
        "from google.colab import drive\n",
        "drive.mount('/content/drive')"
      ]
    },
    {
      "cell_type": "code",
      "source": [
        "!pip install scikit-learn\n",
        "!pip install pandas\n",
        "!pip install numpy\n",
        "!pip install matplotlib"
      ],
      "metadata": {
        "id": "VR5O6KjCtVrf"
      },
      "execution_count": null,
      "outputs": []
    },
    {
      "cell_type": "code",
      "source": [
        "from sklearn import svm\n",
        "from sklearn.model_selection import train_test_split\n",
        "import pandas as pd\n",
        "import numpy as np\n",
        "import matplotlib.pyplot as plt\n",
        "from sklearn.model_selection import cross_val_score \n",
        "from sklearn.metrics import roc_curve, roc_auc_score\n",
        "from imblearn.over_sampling import SMOTE"
      ],
      "metadata": {
        "id": "O1cTWHqttVpQ"
      },
      "execution_count": null,
      "outputs": []
    },
    {
      "cell_type": "code",
      "source": [
        "#  Importing the dataset\n",
        "df = pd.read_csv(\"/content/drive/MyDrive/Project/Dataset/ML/light_combined.csv\")"
      ],
      "metadata": {
        "id": "mztE2CvItVmw"
      },
      "execution_count": null,
      "outputs": []
    },
    {
      "cell_type": "code",
      "source": [
        "# Selecting the features\n",
        "features  = [ \n",
        "    'num_bursts',\n",
        "    'mean_duration',\n",
        "    'std_duration',\n",
        "    'mean_amplitude',\n",
        "    'std_amplitude',\n",
        "    'slope',\n",
        "    'xmin',\n",
        "    'L',\n",
        "    'peak_autocorr_data1',\n",
        "    'peak_autocorr_data2',\n",
        "    'second_peak_autocorr_data1',\n",
        "    'second_peak_autocorr_data2',\n",
        "    ]\n",
        "X = df.loc[:, features].values\n",
        "y = np.ravel(df.loc[:,['label']].values)\n"
      ],
      "metadata": {
        "id": "hBUHd5VbtVkX"
      },
      "execution_count": null,
      "outputs": []
    },
    {
      "cell_type": "markdown",
      "source": [
        "Balancing the dataset"
      ],
      "metadata": {
        "id": "fcVgZpUVtxub"
      }
    },
    {
      "cell_type": "code",
      "source": [
        "# Apply SMOTE to balance the dataset\n",
        "smote = SMOTE()\n",
        "X_resampled, y_resampled = smote.fit_resample(X, y)"
      ],
      "metadata": {
        "id": "Z3CO-8VHthl7"
      },
      "execution_count": null,
      "outputs": []
    },
    {
      "cell_type": "markdown",
      "source": [
        "Classification using Leave-one-out Cross validation"
      ],
      "metadata": {
        "id": "bVe9Q9Edt1Ab"
      }
    },
    {
      "cell_type": "code",
      "source": [
        "from sklearn.model_selection import LeaveOneOut\n",
        "\n",
        "from sklearn.metrics import roc_curve, roc_auc_score, accuracy_score\n",
        "# Create a SVM classifier with a linear kernel\n",
        "clf = svm.SVC(kernel='sigmoid', probability=True)\n",
        "\n",
        "# Use leave-one-out cross-validation\n",
        "cv = LeaveOneOut()\n",
        "\n",
        "# Train and evaluate the classifier using leave-one-out cross-validation\n",
        "y_true, y_pred, y_proba = [], [], []\n",
        "\n",
        "for train_index, test_index in LeaveOneOut().split(X):\n",
        "    X_train, X_test = X[train_index], X[test_index]\n",
        "    y_train, y_test = y[train_index], y[test_index]\n",
        "    model = clf.fit(X_train, y_train)\n",
        "    y_true.append(y_test[0])\n",
        "    y_pred.append(model.predict(X_test)[0])\n",
        "    y_proba.append(model.predict_proba(X_test)[0][1])\n",
        "\n",
        "acc = accuracy_score(y_true, y_pred) * 100\n",
        "auc = roc_auc_score(y_true, y_proba) * 100\n",
        "\n",
        "result_table = pd.DataFrame(columns=['classifiers','score','auc'])\n",
        "result_table = result_table.append({'classifiers': 'SVM',\n",
        "                                    'score':acc,\n",
        "                                    'cross val':'LeaveOneOut',\n",
        "                                    'auc':round(auc,2),\n",
        "                                    }, ignore_index=True)\n",
        "result_table.set_index('classifiers', inplace=True)\n",
        "result_table"
      ],
      "metadata": {
        "id": "6fVyc3H-tVfG"
      },
      "execution_count": null,
      "outputs": []
    },
    {
      "cell_type": "markdown",
      "source": [
        "Classification using 5 Fold Cross validation"
      ],
      "metadata": {
        "id": "LPjeTgGst4-u"
      }
    },
    {
      "cell_type": "code",
      "source": [
        "# Spliting the  data into training and testing sets\n",
        "X_train, X_test, y_train, y_test = train_test_split(X, y, test_size=0.2, stratify=y)\n",
        "\n",
        "# Creating a SVM classifier with a linear kernel\n",
        "clf = svm.SVC(kernel='sigmoid', probability=True)\n",
        "\n",
        "# Training the classifier on the training data\n",
        "model = clf.fit(X_train, y_train)\n",
        "\n",
        "# Making predictions on the testing data using 5 fold Cross Validation \n",
        "y_pred = clf.predict(X_test)\n",
        "\n",
        "acc = model.score(X_test,y_test)*100\n",
        "cross_val = round(cross_val_score(model, X, y, cv=5).mean()*100,2)\n",
        "yproba = model.predict_proba(X_test)[::,1]\n",
        "\n",
        "\n",
        "fpr, tpr, _ = roc_curve(y_test,  yproba)\n",
        "auc = roc_auc_score(y_test, yproba)\n",
        "\n",
        "result_table = pd.DataFrame(columns=['classifiers','score','auc'])\n",
        "result_table = result_table.append({'classifiers': 'SVM',\n",
        "                                    'score':acc,\n",
        "                                    'cross val':cross_val,\n",
        "                                    'auc':round(auc*100,2),\n",
        "                                    }, ignore_index=True)\n",
        "result_table.set_index('classifiers', inplace=True)\n",
        "result_table"
      ],
      "metadata": {
        "id": "52o7KefhtVch"
      },
      "execution_count": null,
      "outputs": []
    },
    {
      "cell_type": "code",
      "source": [],
      "metadata": {
        "id": "SVngqWiFtVZ3"
      },
      "execution_count": null,
      "outputs": []
    }
  ]
}